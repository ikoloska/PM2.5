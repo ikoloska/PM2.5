{
 "cells": [
  {
   "cell_type": "code",
   "execution_count": 55,
   "metadata": {},
   "outputs": [],
   "source": [
    "import numpy as np \n",
    "import pandas as pd \n",
    "import seaborn as sns\n",
    "import os\n",
    "#from sklearn.linear_model import LogisticRegression\n",
    "from sklearn.ensemble import RandomForestClassifier\n",
    "from sklearn.model_selection import train_test_split "
   ]
  },
  {
   "cell_type": "code",
   "execution_count": 56,
   "metadata": {},
   "outputs": [],
   "source": [
    "#LR = LogisticRegression(multi_class='multinomial',solver='newton-cg')\n",
    "RFC = RandomForestClassifier(n_estimators = 100)"
   ]
  },
  {
   "cell_type": "code",
   "execution_count": 57,
   "metadata": {},
   "outputs": [],
   "source": [
    "sns.set()"
   ]
  },
  {
   "cell_type": "code",
   "execution_count": 58,
   "metadata": {},
   "outputs": [],
   "source": [
    "data = pd.read_csv(\"centar.csv\")"
   ]
  },
  {
   "cell_type": "code",
   "execution_count": 59,
   "metadata": {},
   "outputs": [
    {
     "name": "stdout",
     "output_type": "stream",
     "text": [
      "<class 'pandas.core.frame.DataFrame'>\n",
      "RangeIndex: 92246 entries, 0 to 92245\n",
      "Data columns (total 6 columns):\n",
      "time    92246 non-null object\n",
      "CO      37893 non-null float64\n",
      "NO2     40383 non-null float64\n",
      "O3      54732 non-null float64\n",
      "PM10    55670 non-null float64\n",
      "PM25    53825 non-null float64\n",
      "dtypes: float64(5), object(1)\n",
      "memory usage: 4.2+ MB\n"
     ]
    }
   ],
   "source": [
    "data.info()"
   ]
  },
  {
   "cell_type": "code",
   "execution_count": 60,
   "metadata": {},
   "outputs": [],
   "source": [
    "data.dropna(axis=0, how='any', inplace=True)"
   ]
  },
  {
   "cell_type": "code",
   "execution_count": 61,
   "metadata": {},
   "outputs": [],
   "source": [
    "data.PM25 /=40\n",
    "data.PM25 = data.PM25.round()"
   ]
  },
  {
   "cell_type": "code",
   "execution_count": 62,
   "metadata": {},
   "outputs": [
    {
     "data": {
      "text/html": [
       "<div>\n",
       "<style scoped>\n",
       "    .dataframe tbody tr th:only-of-type {\n",
       "        vertical-align: middle;\n",
       "    }\n",
       "\n",
       "    .dataframe tbody tr th {\n",
       "        vertical-align: top;\n",
       "    }\n",
       "\n",
       "    .dataframe thead th {\n",
       "        text-align: right;\n",
       "    }\n",
       "</style>\n",
       "<table border=\"1\" class=\"dataframe\">\n",
       "  <thead>\n",
       "    <tr style=\"text-align: right;\">\n",
       "      <th></th>\n",
       "      <th>time</th>\n",
       "      <th>CO</th>\n",
       "      <th>NO2</th>\n",
       "      <th>O3</th>\n",
       "      <th>PM10</th>\n",
       "      <th>PM25</th>\n",
       "    </tr>\n",
       "  </thead>\n",
       "  <tbody>\n",
       "    <tr>\n",
       "      <th>33519</th>\n",
       "      <td>9/13/2011 18:00</td>\n",
       "      <td>0.3887</td>\n",
       "      <td>58.9646</td>\n",
       "      <td>51.5092</td>\n",
       "      <td>38.1547</td>\n",
       "      <td>1.0</td>\n",
       "    </tr>\n",
       "    <tr>\n",
       "      <th>33520</th>\n",
       "      <td>9/13/2011 19:00</td>\n",
       "      <td>0.4421</td>\n",
       "      <td>68.2525</td>\n",
       "      <td>34.4506</td>\n",
       "      <td>35.8808</td>\n",
       "      <td>1.0</td>\n",
       "    </tr>\n",
       "    <tr>\n",
       "      <th>33521</th>\n",
       "      <td>9/13/2011 20:00</td>\n",
       "      <td>0.7148</td>\n",
       "      <td>66.7734</td>\n",
       "      <td>25.1838</td>\n",
       "      <td>34.2354</td>\n",
       "      <td>1.0</td>\n",
       "    </tr>\n",
       "    <tr>\n",
       "      <th>33522</th>\n",
       "      <td>9/13/2011 21:00</td>\n",
       "      <td>1.6137</td>\n",
       "      <td>109.7333</td>\n",
       "      <td>2.9439</td>\n",
       "      <td>66.8992</td>\n",
       "      <td>3.0</td>\n",
       "    </tr>\n",
       "    <tr>\n",
       "      <th>33523</th>\n",
       "      <td>9/13/2011 22:00</td>\n",
       "      <td>1.3324</td>\n",
       "      <td>95.8612</td>\n",
       "      <td>0.0000</td>\n",
       "      <td>79.7372</td>\n",
       "      <td>3.0</td>\n",
       "    </tr>\n",
       "    <tr>\n",
       "      <th>33524</th>\n",
       "      <td>9/13/2011 23:00</td>\n",
       "      <td>0.7491</td>\n",
       "      <td>78.2269</td>\n",
       "      <td>3.7069</td>\n",
       "      <td>50.3365</td>\n",
       "      <td>2.0</td>\n",
       "    </tr>\n",
       "    <tr>\n",
       "      <th>33525</th>\n",
       "      <td>9/14/2011 0:00</td>\n",
       "      <td>0.3395</td>\n",
       "      <td>68.0701</td>\n",
       "      <td>8.3650</td>\n",
       "      <td>47.4235</td>\n",
       "      <td>2.0</td>\n",
       "    </tr>\n",
       "    <tr>\n",
       "      <th>33526</th>\n",
       "      <td>9/14/2011 1:00</td>\n",
       "      <td>0.2550</td>\n",
       "      <td>43.5155</td>\n",
       "      <td>16.7639</td>\n",
       "      <td>41.7137</td>\n",
       "      <td>2.0</td>\n",
       "    </tr>\n",
       "    <tr>\n",
       "      <th>33527</th>\n",
       "      <td>9/14/2011 2:00</td>\n",
       "      <td>0.1325</td>\n",
       "      <td>31.5916</td>\n",
       "      <td>22.3230</td>\n",
       "      <td>35.1212</td>\n",
       "      <td>1.0</td>\n",
       "    </tr>\n",
       "    <tr>\n",
       "      <th>33528</th>\n",
       "      <td>9/14/2011 3:00</td>\n",
       "      <td>0.8617</td>\n",
       "      <td>27.1957</td>\n",
       "      <td>23.6626</td>\n",
       "      <td>31.3248</td>\n",
       "      <td>1.0</td>\n",
       "    </tr>\n",
       "  </tbody>\n",
       "</table>\n",
       "</div>"
      ],
      "text/plain": [
       "                  time      CO       NO2       O3     PM10  PM25\n",
       "33519  9/13/2011 18:00  0.3887   58.9646  51.5092  38.1547   1.0\n",
       "33520  9/13/2011 19:00  0.4421   68.2525  34.4506  35.8808   1.0\n",
       "33521  9/13/2011 20:00  0.7148   66.7734  25.1838  34.2354   1.0\n",
       "33522  9/13/2011 21:00  1.6137  109.7333   2.9439  66.8992   3.0\n",
       "33523  9/13/2011 22:00  1.3324   95.8612   0.0000  79.7372   3.0\n",
       "33524  9/13/2011 23:00  0.7491   78.2269   3.7069  50.3365   2.0\n",
       "33525   9/14/2011 0:00  0.3395   68.0701   8.3650  47.4235   2.0\n",
       "33526   9/14/2011 1:00  0.2550   43.5155  16.7639  41.7137   2.0\n",
       "33527   9/14/2011 2:00  0.1325   31.5916  22.3230  35.1212   1.0\n",
       "33528   9/14/2011 3:00  0.8617   27.1957  23.6626  31.3248   1.0"
      ]
     },
     "execution_count": 62,
     "metadata": {},
     "output_type": "execute_result"
    }
   ],
   "source": [
    "data.head(10) #check to see if the dataset is in order"
   ]
  },
  {
   "cell_type": "code",
   "execution_count": 63,
   "metadata": {},
   "outputs": [
    {
     "data": {
      "text/html": [
       "<div>\n",
       "<style scoped>\n",
       "    .dataframe tbody tr th:only-of-type {\n",
       "        vertical-align: middle;\n",
       "    }\n",
       "\n",
       "    .dataframe tbody tr th {\n",
       "        vertical-align: top;\n",
       "    }\n",
       "\n",
       "    .dataframe thead th {\n",
       "        text-align: right;\n",
       "    }\n",
       "</style>\n",
       "<table border=\"1\" class=\"dataframe\">\n",
       "  <thead>\n",
       "    <tr style=\"text-align: right;\">\n",
       "      <th></th>\n",
       "      <th>time</th>\n",
       "      <th>CO</th>\n",
       "      <th>NO2</th>\n",
       "      <th>O3</th>\n",
       "      <th>PM10</th>\n",
       "      <th>PM25</th>\n",
       "    </tr>\n",
       "  </thead>\n",
       "  <tbody>\n",
       "    <tr>\n",
       "      <th>68047</th>\n",
       "      <td>7/7/2015 14:00</td>\n",
       "      <td>0.1377</td>\n",
       "      <td>30.2997</td>\n",
       "      <td>96.6010</td>\n",
       "      <td>12.5793</td>\n",
       "      <td>1.0</td>\n",
       "    </tr>\n",
       "    <tr>\n",
       "      <th>68048</th>\n",
       "      <td>7/7/2015 15:00</td>\n",
       "      <td>0.1324</td>\n",
       "      <td>27.2683</td>\n",
       "      <td>91.8190</td>\n",
       "      <td>9.8717</td>\n",
       "      <td>1.0</td>\n",
       "    </tr>\n",
       "    <tr>\n",
       "      <th>68049</th>\n",
       "      <td>7/7/2015 16:00</td>\n",
       "      <td>0.1397</td>\n",
       "      <td>21.2495</td>\n",
       "      <td>93.8080</td>\n",
       "      <td>13.2797</td>\n",
       "      <td>1.0</td>\n",
       "    </tr>\n",
       "    <tr>\n",
       "      <th>68050</th>\n",
       "      <td>7/7/2015 17:00</td>\n",
       "      <td>0.1541</td>\n",
       "      <td>22.2750</td>\n",
       "      <td>84.5574</td>\n",
       "      <td>19.5638</td>\n",
       "      <td>1.0</td>\n",
       "    </tr>\n",
       "    <tr>\n",
       "      <th>68051</th>\n",
       "      <td>7/7/2015 18:00</td>\n",
       "      <td>0.1480</td>\n",
       "      <td>20.5140</td>\n",
       "      <td>90.2078</td>\n",
       "      <td>23.1204</td>\n",
       "      <td>1.0</td>\n",
       "    </tr>\n",
       "    <tr>\n",
       "      <th>68052</th>\n",
       "      <td>7/7/2015 19:00</td>\n",
       "      <td>0.1285</td>\n",
       "      <td>26.0199</td>\n",
       "      <td>86.3030</td>\n",
       "      <td>26.9141</td>\n",
       "      <td>1.0</td>\n",
       "    </tr>\n",
       "    <tr>\n",
       "      <th>68053</th>\n",
       "      <td>7/7/2015 20:00</td>\n",
       "      <td>0.1309</td>\n",
       "      <td>17.0523</td>\n",
       "      <td>82.7170</td>\n",
       "      <td>27.0717</td>\n",
       "      <td>1.0</td>\n",
       "    </tr>\n",
       "    <tr>\n",
       "      <th>68054</th>\n",
       "      <td>7/7/2015 21:00</td>\n",
       "      <td>0.1250</td>\n",
       "      <td>18.9359</td>\n",
       "      <td>69.8806</td>\n",
       "      <td>43.4207</td>\n",
       "      <td>1.0</td>\n",
       "    </tr>\n",
       "    <tr>\n",
       "      <th>68055</th>\n",
       "      <td>7/7/2015 22:00</td>\n",
       "      <td>0.3023</td>\n",
       "      <td>31.9770</td>\n",
       "      <td>41.6910</td>\n",
       "      <td>58.6680</td>\n",
       "      <td>1.0</td>\n",
       "    </tr>\n",
       "    <tr>\n",
       "      <th>68056</th>\n",
       "      <td>7/7/2015 23:00</td>\n",
       "      <td>0.2666</td>\n",
       "      <td>33.5958</td>\n",
       "      <td>29.3240</td>\n",
       "      <td>53.7627</td>\n",
       "      <td>1.0</td>\n",
       "    </tr>\n",
       "  </tbody>\n",
       "</table>\n",
       "</div>"
      ],
      "text/plain": [
       "                 time      CO      NO2       O3     PM10  PM25\n",
       "68047  7/7/2015 14:00  0.1377  30.2997  96.6010  12.5793   1.0\n",
       "68048  7/7/2015 15:00  0.1324  27.2683  91.8190   9.8717   1.0\n",
       "68049  7/7/2015 16:00  0.1397  21.2495  93.8080  13.2797   1.0\n",
       "68050  7/7/2015 17:00  0.1541  22.2750  84.5574  19.5638   1.0\n",
       "68051  7/7/2015 18:00  0.1480  20.5140  90.2078  23.1204   1.0\n",
       "68052  7/7/2015 19:00  0.1285  26.0199  86.3030  26.9141   1.0\n",
       "68053  7/7/2015 20:00  0.1309  17.0523  82.7170  27.0717   1.0\n",
       "68054  7/7/2015 21:00  0.1250  18.9359  69.8806  43.4207   1.0\n",
       "68055  7/7/2015 22:00  0.3023  31.9770  41.6910  58.6680   1.0\n",
       "68056  7/7/2015 23:00  0.2666  33.5958  29.3240  53.7627   1.0"
      ]
     },
     "execution_count": 63,
     "metadata": {},
     "output_type": "execute_result"
    }
   ],
   "source": [
    "data.tail(10) #check to see if the dataset is in order"
   ]
  },
  {
   "cell_type": "code",
   "execution_count": 64,
   "metadata": {},
   "outputs": [],
   "source": [
    "#data.max()"
   ]
  },
  {
   "cell_type": "code",
   "execution_count": 65,
   "metadata": {},
   "outputs": [],
   "source": [
    "#data.info()"
   ]
  },
  {
   "cell_type": "code",
   "execution_count": 66,
   "metadata": {},
   "outputs": [],
   "source": [
    "train, test = train_test_split(data, test_size = 0.3) #split the data set into training and testing instances\n",
    "#train.head(5)"
   ]
  },
  {
   "cell_type": "code",
   "execution_count": 67,
   "metadata": {},
   "outputs": [],
   "source": [
    "train_features = train.iloc[:,1:5]\n",
    "train_target = train[\"PM25\"]\n",
    "\n",
    "test_features = test.iloc[:,1:5]\n",
    "test_target = test[\"PM25\"]"
   ]
  },
  {
   "cell_type": "code",
   "execution_count": 68,
   "metadata": {},
   "outputs": [],
   "source": [
    "#LR.fit(train_features, train_target)"
   ]
  },
  {
   "cell_type": "code",
   "execution_count": 69,
   "metadata": {},
   "outputs": [],
   "source": [
    "#LR.score(train_features, train_target) #score is 0.71841137533709243"
   ]
  },
  {
   "cell_type": "code",
   "execution_count": 70,
   "metadata": {},
   "outputs": [],
   "source": [
    "#LR.score(test_features, test_target) #score is 0.70655531403729555"
   ]
  },
  {
   "cell_type": "code",
   "execution_count": 71,
   "metadata": {},
   "outputs": [
    {
     "data": {
      "text/plain": [
       "RandomForestClassifier(bootstrap=True, class_weight=None, criterion='gini',\n",
       "            max_depth=None, max_features='auto', max_leaf_nodes=None,\n",
       "            min_impurity_decrease=0.0, min_impurity_split=None,\n",
       "            min_samples_leaf=1, min_samples_split=2,\n",
       "            min_weight_fraction_leaf=0.0, n_estimators=100, n_jobs=1,\n",
       "            oob_score=False, random_state=None, verbose=0,\n",
       "            warm_start=False)"
      ]
     },
     "execution_count": 71,
     "metadata": {},
     "output_type": "execute_result"
    }
   ],
   "source": [
    "RFC.fit(train_features, train_target)"
   ]
  },
  {
   "cell_type": "code",
   "execution_count": 72,
   "metadata": {},
   "outputs": [
    {
     "data": {
      "text/plain": [
       "0.9999509683746016"
      ]
     },
     "execution_count": 72,
     "metadata": {},
     "output_type": "execute_result"
    }
   ],
   "source": [
    "RFC.score(train_features, train_target) #score is ~1"
   ]
  },
  {
   "cell_type": "code",
   "execution_count": 73,
   "metadata": {},
   "outputs": [
    {
     "data": {
      "text/plain": [
       "0.7757693627731381"
      ]
     },
     "execution_count": 73,
     "metadata": {},
     "output_type": "execute_result"
    }
   ],
   "source": [
    "RFC.score(test_features, test_target)"
   ]
  }
 ],
 "metadata": {
  "kernelspec": {
   "display_name": "Python 3",
   "language": "python",
   "name": "python3"
  },
  "language_info": {
   "codemirror_mode": {
    "name": "ipython",
    "version": 3
   },
   "file_extension": ".py",
   "mimetype": "text/x-python",
   "name": "python",
   "nbconvert_exporter": "python",
   "pygments_lexer": "ipython3",
   "version": "3.6.5"
  }
 },
 "nbformat": 4,
 "nbformat_minor": 2
}
